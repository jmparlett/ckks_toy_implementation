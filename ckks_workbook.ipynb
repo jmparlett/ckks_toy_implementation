{
 "cells": [
  {
   "cell_type": "code",
   "execution_count": 1,
   "metadata": {},
   "outputs": [],
   "source": [
    "import ckks\n",
    "import numpy as np"
   ]
  },
  {
   "cell_type": "code",
   "execution_count": 2,
   "metadata": {},
   "outputs": [
    {
     "data": {
      "text/plain": [
       "(0.7071067811865476+0.7071067811865475j)"
      ]
     },
     "execution_count": 2,
     "metadata": {},
     "output_type": "execute_result"
    }
   ],
   "source": [
    "ckks.XI"
   ]
  },
  {
   "cell_type": "code",
   "execution_count": 3,
   "metadata": {},
   "outputs": [],
   "source": [
    "M = 8 # Well use the roots of the M-th cyclotomic polynomial for encoding and decoding\n",
    "N = M//2 # We are guaranteed the M-th cyclotomic is of degree M/2 if M is a power of 2\n",
    "\n",
    "# XI is our complex root of unity, and want to work with the M-th\n",
    "XI = np.exp(2 * np.pi * 1j / M)\n"
   ]
  },
  {
   "cell_type": "code",
   "execution_count": 4,
   "metadata": {},
   "outputs": [],
   "source": [
    "encoder = ckks.CKKSEncoder(M)"
   ]
  },
  {
   "cell_type": "code",
   "execution_count": 5,
   "metadata": {},
   "outputs": [],
   "source": [
    "v = np.array([1,2,3,4])"
   ]
  },
  {
   "cell_type": "code",
   "execution_count": 6,
   "metadata": {},
   "outputs": [],
   "source": [
    "p = encoder.encode(v)"
   ]
  },
  {
   "cell_type": "code",
   "execution_count": 7,
   "metadata": {},
   "outputs": [
    {
     "name": "stdout",
     "output_type": "stream",
     "text": [
      "(2.5+4.440892098500626e-16j) -\n",
      "(4.996003610813204e-16-0.7071067811865479j)·x -\n",
      "(3.4694469519536176e-16-0.5000000000000003j)·x² -\n",
      "(8.326672684688674e-16-0.7071067811865472j)·x³\n"
     ]
    }
   ],
   "source": [
    "print(p)"
   ]
  },
  {
   "cell_type": "code",
   "execution_count": 8,
   "metadata": {},
   "outputs": [],
   "source": [
    "v_decoded = encoder.decode(p)"
   ]
  },
  {
   "cell_type": "code",
   "execution_count": 9,
   "metadata": {},
   "outputs": [
    {
     "name": "stdout",
     "output_type": "stream",
     "text": [
      "[1.-7.66567226e-17j 2.-3.37225768e-16j 3.+8.49335536e-18j\n",
      " 4.+7.47733715e-17j]\n"
     ]
    }
   ],
   "source": [
    "print(v_decoded) # we can the result of decoding is very close to original but with some error"
   ]
  },
  {
   "cell_type": "code",
   "execution_count": 10,
   "metadata": {},
   "outputs": [
    {
     "data": {
      "text/plain": [
       "7.208960525149399e-16"
      ]
     },
     "execution_count": 10,
     "metadata": {},
     "output_type": "execute_result"
    }
   ],
   "source": [
    "# distance from orig\n",
    "np.linalg.norm(v_decoded - v)"
   ]
  },
  {
   "attachments": {},
   "cell_type": "markdown",
   "metadata": {},
   "source": [
    "# Homomorphic operations\n",
    "## Addition"
   ]
  },
  {
   "cell_type": "code",
   "execution_count": 11,
   "metadata": {},
   "outputs": [],
   "source": [
    "v1 = np.array([1,2,3,4])\n",
    "v2 = np.array([1,-2,3,-4])"
   ]
  },
  {
   "cell_type": "code",
   "execution_count": 12,
   "metadata": {},
   "outputs": [],
   "source": [
    "p1 = encoder.encode(v1)\n",
    "p2 = encoder.encode(v2)"
   ]
  },
  {
   "cell_type": "code",
   "execution_count": 13,
   "metadata": {},
   "outputs": [],
   "source": [
    "v1_p_v2 = p1 + p2 # close to [0,0,0,0]\n",
    "v1_m_v2 = p1 - p2 # close to 2*v1\n"
   ]
  },
  {
   "cell_type": "code",
   "execution_count": 14,
   "metadata": {},
   "outputs": [
    {
     "name": "stdout",
     "output_type": "stream",
     "text": [
      "[2.-0.j 0.-0.j 6.+0.j 0.+0.j]\n",
      "[-0.-0.j  4.-0.j -0.-0.j  8.-0.j]\n"
     ]
    }
   ],
   "source": [
    "print(np.round(encoder.decode(v1_p_v2)))\n",
    "print(np.round(encoder.decode(v1_m_v2)))"
   ]
  },
  {
   "attachments": {},
   "cell_type": "markdown",
   "metadata": {},
   "source": [
    "## Multiplication\n",
    "Need a polynomial modulus. I believe in CKKKS there is a far more complex renormalization operations that\n",
    "ensures polynomial products are computed using the modulus accurately but for now well just perform mod\n",
    "in a straight forward manner"
   ]
  },
  {
   "cell_type": "code",
   "execution_count": 15,
   "metadata": {},
   "outputs": [],
   "source": [
    "from numpy.polynomial import Polynomial\n",
    "poly_mod = Polynomial([1,0,0,0,1]) # X^4 + 1, so polynomial products will never exceed degree 3"
   ]
  },
  {
   "cell_type": "code",
   "execution_count": 16,
   "metadata": {},
   "outputs": [],
   "source": [
    "v1_prod_v2 = p1 * p2 % poly_mod"
   ]
  },
  {
   "cell_type": "code",
   "execution_count": 17,
   "metadata": {},
   "outputs": [
    {
     "name": "stdout",
     "output_type": "stream",
     "text": [
      "[  1.-0.j  -4.+0.j   9.+0.j -16.-0.j]\n"
     ]
    }
   ],
   "source": [
    "print(np.round(encoder.decode(v1_prod_v2)))"
   ]
  },
  {
   "attachments": {},
   "cell_type": "markdown",
   "metadata": {},
   "source": [
    "# Part 2 stuff"
   ]
  },
  {
   "cell_type": "code",
   "execution_count": 18,
   "metadata": {},
   "outputs": [
    {
     "name": "stdout",
     "output_type": "stream",
     "text": [
      "[0 1 1 0]\n",
      "[0 1]\n"
     ]
    }
   ],
   "source": [
    "z = np.array([0,1])\n",
    "\n",
    "# should double to [0,1,1,0]\n",
    "z_pi = encoder.pi_inverse(z)\n",
    "print(z_pi)\n",
    "\n",
    "# should half to [0,1]\n",
    "print(encoder.pi(z_pi))"
   ]
  },
  {
   "cell_type": "code",
   "execution_count": 19,
   "metadata": {},
   "outputs": [
    {
     "name": "stdout",
     "output_type": "stream",
     "text": [
      "[[ 1.00000000e+00+0.j          1.00000000e+00+0.j\n",
      "   1.00000000e+00+0.j          1.00000000e+00+0.j        ]\n",
      " [ 7.07106781e-01+0.70710678j -7.07106781e-01+0.70710678j\n",
      "  -7.07106781e-01-0.70710678j  7.07106781e-01-0.70710678j]\n",
      " [ 2.22044605e-16+1.j         -4.44089210e-16-1.j\n",
      "   1.11022302e-15+1.j         -1.38777878e-15-1.j        ]\n",
      " [-7.07106781e-01+0.70710678j  7.07106781e-01+0.70710678j\n",
      "   7.07106781e-01-0.70710678j -7.07106781e-01-0.70710678j]]\n"
     ]
    }
   ],
   "source": [
    "print(encoder.sigma_R_basis)"
   ]
  },
  {
   "cell_type": "code",
   "execution_count": 20,
   "metadata": {},
   "outputs": [],
   "source": [
    "# check that linear combination of sigma basis is encoded as an integer polynomial\n",
    "coords1 = [1,0,0,0]\n",
    "coords2 = [1,1,1,1]\n",
    "coords3 = [2,2,2,0]"
   ]
  },
  {
   "cell_type": "code",
   "execution_count": 21,
   "metadata": {},
   "outputs": [],
   "source": [
    "b1 = np.matmul(encoder.sigma_R_basis.T,coords1)\n",
    "b2 = np.matmul(encoder.sigma_R_basis.T,coords2)\n",
    "b3 = np.matmul(encoder.sigma_R_basis.T,coords3)"
   ]
  },
  {
   "cell_type": "code",
   "execution_count": 22,
   "metadata": {},
   "outputs": [
    {
     "name": "stdout",
     "output_type": "stream",
     "text": [
      "[1.+0.j 1.+0.j 1.+0.j 1.+0.j]\n",
      "[1.+2.41421356j 1.+0.41421356j 1.-0.41421356j 1.-2.41421356j]\n",
      "[3.41421356+3.41421356j 0.58578644-0.58578644j 0.58578644+0.58578644j\n",
      " 3.41421356-3.41421356j]\n"
     ]
    }
   ],
   "source": [
    "print(b1)\n",
    "print(b2)\n",
    "print(b3)"
   ]
  },
  {
   "cell_type": "code",
   "execution_count": 25,
   "metadata": {},
   "outputs": [
    {
     "name": "stdout",
     "output_type": "stream",
     "text": [
      "(1+0j) + (-0+0j)·x + (-0+0j)·x² + 0j·x³ \n",
      "\n",
      "\n",
      "(1+2.220446049250313e-16j) + (1+0j)·x +\n",
      "(0.9999999999999998+2.7755575615628716e-17j)·x² +\n",
      "(1+2.220446049250313e-16j)·x³ \n",
      "\n",
      "\n",
      "(2-2.220446049250313e-16j) + (2+4.440892098500626e-16j)·x +\n",
      "(2-3.72797834410252e-17j)·x² -\n",
      "(3.661623269986289e-16+1.04865410606504e-16j)·x³ \n",
      "\n",
      "\n"
     ]
    }
   ],
   "source": [
    "print(encoder.encode(b1),\"\\n\\n\")\n",
    "print(encoder.encode(b2),\"\\n\\n\")\n",
    "print(encoder.encode(b3),\"\\n\\n\")"
   ]
  },
  {
   "cell_type": "code",
   "execution_count": 26,
   "metadata": {},
   "outputs": [
    {
     "name": "stdout",
     "output_type": "stream",
     "text": [
      "(1.5000000000000004+0j) + (1.5+4.440892098500626e-16j)·x +\n",
      "(1.5-1.387778780781426e-17j)·x² +\n",
      "(1.4999999999999998-1.1102230246251565e-16j)·x³\n"
     ]
    }
   ],
   "source": [
    "# A non linear combination should not encode to a integer polynomial\n",
    "coords4 = [1.5,1.5,1.5,1.5]\n",
    "b4 = np.matmul(encoder.sigma_R_basis.T,coords4)\n",
    "print(encoder.encode(b4))"
   ]
  },
  {
   "cell_type": "code",
   "execution_count": null,
   "metadata": {},
   "outputs": [],
   "source": []
  }
 ],
 "metadata": {
  "kernelspec": {
   "display_name": "Python 3.10.7 64-bit",
   "language": "python",
   "name": "python3"
  },
  "language_info": {
   "codemirror_mode": {
    "name": "ipython",
    "version": 3
   },
   "file_extension": ".py",
   "mimetype": "text/x-python",
   "name": "python",
   "nbconvert_exporter": "python",
   "pygments_lexer": "ipython3",
   "version": "3.10.7"
  },
  "orig_nbformat": 4,
  "vscode": {
   "interpreter": {
    "hash": "31f2aee4e71d21fbe5cf8b01ff0e069b9275f58929596ceb00d14d90e3e16cd6"
   }
  }
 },
 "nbformat": 4,
 "nbformat_minor": 2
}
