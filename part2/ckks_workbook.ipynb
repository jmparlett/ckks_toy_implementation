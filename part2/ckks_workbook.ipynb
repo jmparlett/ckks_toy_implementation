{
 "cells": [
  {
   "cell_type": "code",
   "execution_count": 24,
   "metadata": {},
   "outputs": [],
   "source": [
    "import ckks\n",
    "import numpy as np"
   ]
  },
  {
   "cell_type": "code",
   "execution_count": 25,
   "metadata": {},
   "outputs": [],
   "source": [
    "M = 16 # Well use the roots of the M-th cyclotomic polynomial for encoding and decoding\n",
    "N = M//2 # We are guaranteed the M-th cyclotomic is of degree M/2 if M is a power of 2\n",
    "\n",
    "# XI is our complex root of unity, and want to work with the M-th\n",
    "XI = np.exp(2 * np.pi * 1j / M)\n"
   ]
  },
  {
   "cell_type": "code",
   "execution_count": 26,
   "metadata": {},
   "outputs": [],
   "source": [
    "# after changing the encoder out input vectors should be of size M/2 so if we increase the size of M the tests should still work\n",
    "encoder = ckks.CKKSEncoder(M)"
   ]
  },
  {
   "cell_type": "code",
   "execution_count": 27,
   "metadata": {},
   "outputs": [],
   "source": [
    "v = np.array([1,2,3,4])"
   ]
  },
  {
   "cell_type": "code",
   "execution_count": 28,
   "metadata": {},
   "outputs": [
    {
     "data": {
      "text/plain": [
       "array([1, 2, 3, 4, 4, 3, 2, 1])"
      ]
     },
     "execution_count": 28,
     "metadata": {},
     "output_type": "execute_result"
    }
   ],
   "source": [
    "encoder.pi_inverse(v)"
   ]
  },
  {
   "cell_type": "code",
   "execution_count": 29,
   "metadata": {},
   "outputs": [],
   "source": [
    "p = encoder.encode(v)"
   ]
  },
  {
   "cell_type": "code",
   "execution_count": 30,
   "metadata": {},
   "outputs": [
    {
     "name": "stdout",
     "output_type": "stream",
     "text": [
      "160.0 - 50.0·x + 0.0·x² - 3.0·x³ + 0.0·x⁴ + 4.0·x⁵ + 0.0·x⁶ + 50.0·x⁷\n"
     ]
    }
   ],
   "source": [
    "print(p)"
   ]
  },
  {
   "cell_type": "code",
   "execution_count": 31,
   "metadata": {},
   "outputs": [],
   "source": [
    "v_decoded = encoder.decode(p)"
   ]
  },
  {
   "cell_type": "code",
   "execution_count": 32,
   "metadata": {},
   "outputs": [
    {
     "name": "stdout",
     "output_type": "stream",
     "text": [
      "[1.01458223+0.01443562j 2.00310646-0.00597943j 2.99689354-0.00597943j\n",
      " 3.98541777+0.01443562j]\n"
     ]
    }
   ],
   "source": [
    "print(v_decoded) # we can the result of decoding is very close to original but with some error"
   ]
  },
  {
   "cell_type": "code",
   "execution_count": 33,
   "metadata": {},
   "outputs": [
    {
     "data": {
      "text/plain": [
       "0.030542827521940662"
      ]
     },
     "execution_count": 33,
     "metadata": {},
     "output_type": "execute_result"
    }
   ],
   "source": [
    "# distance from orig\n",
    "np.linalg.norm(v_decoded - v)"
   ]
  },
  {
   "attachments": {},
   "cell_type": "markdown",
   "metadata": {},
   "source": [
    "# Homomorphic operations\n",
    "## Addition"
   ]
  },
  {
   "cell_type": "code",
   "execution_count": 34,
   "metadata": {},
   "outputs": [],
   "source": [
    "v1 = np.array([1,2,3,4])\n",
    "v2 = np.array([1,-2,3,-4])"
   ]
  },
  {
   "cell_type": "code",
   "execution_count": 35,
   "metadata": {},
   "outputs": [],
   "source": [
    "p1 = encoder.encode(v1)\n",
    "p2 = encoder.encode(v2)"
   ]
  },
  {
   "cell_type": "code",
   "execution_count": 36,
   "metadata": {},
   "outputs": [],
   "source": [
    "v1_p_v2 = p1 + p2 # close to [0,0,0,0]\n",
    "v1_m_v2 = p1 - p2 # close to 2*v1\n"
   ]
  },
  {
   "cell_type": "code",
   "execution_count": 37,
   "metadata": {},
   "outputs": [
    {
     "name": "stdout",
     "output_type": "stream",
     "text": [
      "[ 2.-0.j  0.+0.j  6.-0.j -0.-0.j]\n",
      "[ 0.-0.j  4.+0.j -0.+0.j  8.+0.j]\n"
     ]
    }
   ],
   "source": [
    "print(np.round(encoder.decode(v1_p_v2)))\n",
    "print(np.round(encoder.decode(v1_m_v2)))"
   ]
  },
  {
   "attachments": {},
   "cell_type": "markdown",
   "metadata": {},
   "source": [
    "## Multiplication\n",
    "Need a polynomial modulus. I believe in CKKKS there is a far more complex renormalization operations that\n",
    "ensures polynomial products are computed using the modulus accurately but for now well just perform mod\n",
    "in a straight forward manner"
   ]
  },
  {
   "cell_type": "code",
   "execution_count": 38,
   "metadata": {},
   "outputs": [],
   "source": [
    "from numpy.polynomial import Polynomial\n",
    "poly_mod = Polynomial([1,0,0,0,0,0,0,0,1]) # X^8 + 1, so polynomial products will never exceed degree 7"
   ]
  },
  {
   "cell_type": "code",
   "execution_count": 39,
   "metadata": {},
   "outputs": [],
   "source": [
    "v1_prod_v2 = p1 * p2 % poly_mod"
   ]
  },
  {
   "cell_type": "code",
   "execution_count": 40,
   "metadata": {},
   "outputs": [
    {
     "name": "stdout",
     "output_type": "stream",
     "text": [
      "[   65.-2.j  -255.-0.j   576.-3.j -1023.-4.j]\n"
     ]
    }
   ],
   "source": [
    "print(np.round(encoder.decode(v1_prod_v2)))"
   ]
  },
  {
   "attachments": {},
   "cell_type": "markdown",
   "metadata": {},
   "source": [
    "# Part 2 stuff"
   ]
  },
  {
   "cell_type": "code",
   "execution_count": 41,
   "metadata": {},
   "outputs": [
    {
     "name": "stdout",
     "output_type": "stream",
     "text": [
      "[0 1 1 0]\n",
      "[0 1 1 0]\n"
     ]
    }
   ],
   "source": [
    "z = np.array([0,1])\n",
    "\n",
    "# should double to [0,1,1,0]\n",
    "z_pi = encoder.pi_inverse(z)\n",
    "print(z_pi)\n",
    "\n",
    "# should half to [0,1]\n",
    "print(encoder.pi(z_pi))"
   ]
  },
  {
   "cell_type": "code",
   "execution_count": 42,
   "metadata": {},
   "outputs": [
    {
     "name": "stdout",
     "output_type": "stream",
     "text": [
      "[[ 1.00000000e+00+0.j          1.00000000e+00+0.j\n",
      "   1.00000000e+00+0.j          1.00000000e+00+0.j\n",
      "   1.00000000e+00+0.j          1.00000000e+00+0.j\n",
      "   1.00000000e+00+0.j          1.00000000e+00+0.j        ]\n",
      " [ 9.23879533e-01+0.38268343j  3.82683432e-01+0.92387953j\n",
      "  -3.82683432e-01+0.92387953j -9.23879533e-01+0.38268343j\n",
      "  -9.23879533e-01-0.38268343j -3.82683432e-01-0.92387953j\n",
      "   3.82683432e-01-0.92387953j  9.23879533e-01-0.38268343j]\n",
      " [ 7.07106781e-01+0.70710678j -7.07106781e-01+0.70710678j\n",
      "  -7.07106781e-01-0.70710678j  7.07106781e-01-0.70710678j\n",
      "   7.07106781e-01+0.70710678j -7.07106781e-01+0.70710678j\n",
      "  -7.07106781e-01-0.70710678j  7.07106781e-01-0.70710678j]\n",
      " [ 3.82683432e-01+0.92387953j -9.23879533e-01-0.38268343j\n",
      "   9.23879533e-01-0.38268343j -3.82683432e-01+0.92387953j\n",
      "  -3.82683432e-01-0.92387953j  9.23879533e-01+0.38268343j\n",
      "  -9.23879533e-01+0.38268343j  3.82683432e-01-0.92387953j]\n",
      " [-2.22044605e-16+1.j          3.33066907e-16-1.j\n",
      "  -1.11022302e-15+1.j          1.27675648e-15-1.j\n",
      "  -1.94289029e-15+1.j          2.27595720e-15-1.j\n",
      "  -2.88657986e-15+1.j          3.16413562e-15-1.j        ]\n",
      " [-3.82683432e-01+0.92387953j  9.23879533e-01-0.38268343j\n",
      "  -9.23879533e-01-0.38268343j  3.82683432e-01+0.92387953j\n",
      "   3.82683432e-01-0.92387953j -9.23879533e-01+0.38268343j\n",
      "   9.23879533e-01+0.38268343j -3.82683432e-01-0.92387953j]\n",
      " [-7.07106781e-01+0.70710678j  7.07106781e-01+0.70710678j\n",
      "   7.07106781e-01-0.70710678j -7.07106781e-01-0.70710678j\n",
      "  -7.07106781e-01+0.70710678j  7.07106781e-01+0.70710678j\n",
      "   7.07106781e-01-0.70710678j -7.07106781e-01-0.70710678j]\n",
      " [-9.23879533e-01+0.38268343j -3.82683432e-01+0.92387953j\n",
      "   3.82683432e-01+0.92387953j  9.23879533e-01+0.38268343j\n",
      "   9.23879533e-01-0.38268343j  3.82683432e-01-0.92387953j\n",
      "  -3.82683432e-01-0.92387953j -9.23879533e-01-0.38268343j]]\n"
     ]
    }
   ],
   "source": [
    "print(encoder.sigma_R_basis)"
   ]
  },
  {
   "cell_type": "code",
   "execution_count": 43,
   "metadata": {},
   "outputs": [],
   "source": [
    "# check that linear combination of sigma basis is encoded as an integer polynomial\n",
    "coords1 = [1,0,0,0]\n",
    "coords2 = [1,1,1,1]\n",
    "coords3 = [2,2,2,0]"
   ]
  },
  {
   "cell_type": "code",
   "execution_count": 44,
   "metadata": {},
   "outputs": [],
   "source": [
    "# b1 = np.matmul(encoder.sigma_R_basis.T,coords1)\n",
    "# b2 = np.matmul(encoder.sigma_R_basis.T,coords2)\n",
    "# b3 = np.matmul(encoder.sigma_R_basis.T,coords3)"
   ]
  },
  {
   "cell_type": "code",
   "execution_count": 45,
   "metadata": {},
   "outputs": [],
   "source": [
    "# print(b1)\n",
    "# print(b2)\n",
    "# print(b3)"
   ]
  },
  {
   "cell_type": "code",
   "execution_count": 46,
   "metadata": {},
   "outputs": [],
   "source": [
    "# print(encoder.encode(b1),\"\\n\\n\")\n",
    "# print(encoder.encode(b2),\"\\n\\n\")\n",
    "# print(encoder.encode(b3),\"\\n\\n\")"
   ]
  },
  {
   "cell_type": "code",
   "execution_count": 47,
   "metadata": {},
   "outputs": [],
   "source": [
    "# A non linear combination should not encode to a integer polynomial\n",
    "# coords4 = [1.5,1.5,1.5,1.5]\n",
    "# b4 = np.matmul(encoder.sigma_R_basis.T,coords4)\n",
    "# print(encoder.encode(b4))"
   ]
  },
  {
   "attachments": {},
   "cell_type": "markdown",
   "metadata": {},
   "source": [
    "# Full encoder tests"
   ]
  },
  {
   "cell_type": "code",
   "execution_count": 48,
   "metadata": {},
   "outputs": [],
   "source": [
    "encoder = ckks.CKKSEncoder(8)"
   ]
  },
  {
   "cell_type": "code",
   "execution_count": 49,
   "metadata": {},
   "outputs": [
    {
     "data": {
      "text/plain": [
       "array([3.+4.j, 2.-1.j])"
      ]
     },
     "execution_count": 49,
     "metadata": {},
     "output_type": "execute_result"
    }
   ],
   "source": [
    "z = np.array([3 +4j, 2 - 1j])\n",
    "z"
   ]
  },
  {
   "cell_type": "code",
   "execution_count": 50,
   "metadata": {},
   "outputs": [
    {
     "data": {
      "text/latex": [
       "$x \\mapsto \\text{160.0} + \\text{91.0}\\,x + \\text{160.0}\\,x^{2} + \\text{45.0}\\,x^{3}$"
      ],
      "text/plain": [
       "Polynomial([160.,  91., 160.,  45.], domain=[-1,  1], window=[-1,  1], symbol='x')"
      ]
     },
     "execution_count": 50,
     "metadata": {},
     "output_type": "execute_result"
    }
   ],
   "source": [
    "p = encoder.encode(z)\n",
    "p"
   ]
  },
  {
   "cell_type": "code",
   "execution_count": 51,
   "metadata": {},
   "outputs": [
    {
     "data": {
      "text/plain": [
       "array([3.008233+4.00260191j, 1.991767-0.99739809j])"
      ]
     },
     "execution_count": 51,
     "metadata": {},
     "output_type": "execute_result"
    }
   ],
   "source": [
    "encoder.decode(p)"
   ]
  },
  {
   "cell_type": "code",
   "execution_count": null,
   "metadata": {},
   "outputs": [],
   "source": []
  }
 ],
 "metadata": {
  "kernelspec": {
   "display_name": "Python 3.10.7 64-bit",
   "language": "python",
   "name": "python3"
  },
  "language_info": {
   "codemirror_mode": {
    "name": "ipython",
    "version": 3
   },
   "file_extension": ".py",
   "mimetype": "text/x-python",
   "name": "python",
   "nbconvert_exporter": "python",
   "pygments_lexer": "ipython3",
   "version": "3.10.7"
  },
  "orig_nbformat": 4,
  "vscode": {
   "interpreter": {
    "hash": "31f2aee4e71d21fbe5cf8b01ff0e069b9275f58929596ceb00d14d90e3e16cd6"
   }
  }
 },
 "nbformat": 4,
 "nbformat_minor": 2
}
